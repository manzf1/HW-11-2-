{
  "nbformat": 4,
  "nbformat_minor": 0,
  "metadata": {
    "colab": {
      "name": "HW 11 (2)",
      "provenance": []
    },
    "kernelspec": {
      "name": "python3",
      "display_name": "Python 3"
    },
    "language_info": {
      "name": "python"
    }
  },
  "cells": [
    {
      "cell_type": "markdown",
      "metadata": {
        "id": "xZ6m8lHjVBWv"
      },
      "source": [
        "# **Country Population**\n",
        "#####This data set tells us whether the population of the people between 2010-2019 increase or decreases"
      ]
    },
    {
      "cell_type": "code",
      "metadata": {
        "colab": {
          "base_uri": "https://localhost:8080/",
          "height": 888
        },
        "id": "jxa3D94_XHiY",
        "outputId": "b50630f1-4a6a-4b6a-e8d4-ee2903efc79b"
      },
      "source": [
        "import matplotlib.pyplot as plt\n",
        "import pandas as pd\n",
        "import numpy as np\n",
        "import missingno as msno\n",
        "import seaborn as sns\n",
        "\n",
        "df = pd.read_csv('https://raw.githubusercontent.com/manzf1/CAvideos/main/countries%20History.csv')\n",
        "\n",
        "df_original = df.copy()\n",
        "\n",
        "df.head(11)"
      ],
      "execution_count": 1,
      "outputs": [
        {
          "output_type": "execute_result",
          "data": {
            "text/html": [
              "<div>\n",
              "<style scoped>\n",
              "    .dataframe tbody tr th:only-of-type {\n",
              "        vertical-align: middle;\n",
              "    }\n",
              "\n",
              "    .dataframe tbody tr th {\n",
              "        vertical-align: top;\n",
              "    }\n",
              "\n",
              "    .dataframe thead th {\n",
              "        text-align: right;\n",
              "    }\n",
              "</style>\n",
              "<table border=\"1\" class=\"dataframe\">\n",
              "  <thead>\n",
              "    <tr style=\"text-align: right;\">\n",
              "      <th></th>\n",
              "      <th>Name</th>\n",
              "      <th>NativeName</th>\n",
              "      <th>CallingCode</th>\n",
              "      <th>Iso3166P1Alpha2Code</th>\n",
              "      <th>Iso3166P1Alpha3Code</th>\n",
              "      <th>Iso3166P1NumericCode</th>\n",
              "      <th>Isni</th>\n",
              "      <th>Population, 2010</th>\n",
              "      <th>Population, 2011</th>\n",
              "      <th>Population, 2012</th>\n",
              "      <th>Population, 2013</th>\n",
              "      <th>Population, 2014</th>\n",
              "      <th>Population, 2015</th>\n",
              "      <th>Population, 2016</th>\n",
              "      <th>Population, 2017</th>\n",
              "      <th>Population, 2018</th>\n",
              "      <th>Population, 2019</th>\n",
              "    </tr>\n",
              "  </thead>\n",
              "  <tbody>\n",
              "    <tr>\n",
              "      <th>0</th>\n",
              "      <td>Canada</td>\n",
              "      <td>Canada</td>\n",
              "      <td>1.0</td>\n",
              "      <td>CA</td>\n",
              "      <td>CAN</td>\n",
              "      <td>124.0</td>\n",
              "      <td>0000 0001 2238 5050</td>\n",
              "      <td>34004889.0</td>\n",
              "      <td>34339328.0</td>\n",
              "      <td>34714222.0</td>\n",
              "      <td>35082954.0</td>\n",
              "      <td>35437435.0</td>\n",
              "      <td>35702908.0</td>\n",
              "      <td>36109487.0</td>\n",
              "      <td>36545295.0</td>\n",
              "      <td>37065178.0</td>\n",
              "      <td>37593384.0</td>\n",
              "    </tr>\n",
              "    <tr>\n",
              "      <th>1</th>\n",
              "      <td>Japan</td>\n",
              "      <td>日本</td>\n",
              "      <td>81.0</td>\n",
              "      <td>JP</td>\n",
              "      <td>JPN</td>\n",
              "      <td>392.0</td>\n",
              "      <td>0000 0001 2364 9740</td>\n",
              "      <td>128070000.0</td>\n",
              "      <td>127833000.0</td>\n",
              "      <td>127629000.0</td>\n",
              "      <td>127445000.0</td>\n",
              "      <td>127276000.0</td>\n",
              "      <td>127141000.0</td>\n",
              "      <td>126994511.0</td>\n",
              "      <td>126785797.0</td>\n",
              "      <td>126529100.0</td>\n",
              "      <td>126264931.0</td>\n",
              "    </tr>\n",
              "    <tr>\n",
              "      <th>2</th>\n",
              "      <td>Norway</td>\n",
              "      <td>Kongeriket Norge</td>\n",
              "      <td>47.0</td>\n",
              "      <td>NO</td>\n",
              "      <td>NOR</td>\n",
              "      <td>578.0</td>\n",
              "      <td>0000 0001 2298 9524</td>\n",
              "      <td>4889252.0</td>\n",
              "      <td>4953088.0</td>\n",
              "      <td>5018573.0</td>\n",
              "      <td>5079623.0</td>\n",
              "      <td>5137232.0</td>\n",
              "      <td>5188607.0</td>\n",
              "      <td>5234519.0</td>\n",
              "      <td>5276968.0</td>\n",
              "      <td>5311916.0</td>\n",
              "      <td>5347896.0</td>\n",
              "    </tr>\n",
              "    <tr>\n",
              "      <th>3</th>\n",
              "      <td>Ireland</td>\n",
              "      <td>Eire</td>\n",
              "      <td>353.0</td>\n",
              "      <td>IE</td>\n",
              "      <td>IRL</td>\n",
              "      <td>372.0</td>\n",
              "      <td>0000 0001 2359 1198</td>\n",
              "      <td>4560155.0</td>\n",
              "      <td>4580084.0</td>\n",
              "      <td>4599533.0</td>\n",
              "      <td>4623816.0</td>\n",
              "      <td>4657740.0</td>\n",
              "      <td>4701957.0</td>\n",
              "      <td>4755335.0</td>\n",
              "      <td>4807388.0</td>\n",
              "      <td>4867316.0</td>\n",
              "      <td>4934040.0</td>\n",
              "    </tr>\n",
              "    <tr>\n",
              "      <th>4</th>\n",
              "      <td>Hungary</td>\n",
              "      <td>Magyarorszag</td>\n",
              "      <td>36.0</td>\n",
              "      <td>HU</td>\n",
              "      <td>HUN</td>\n",
              "      <td>348.0</td>\n",
              "      <td>0000 0001 2254 0380</td>\n",
              "      <td>10000023.0</td>\n",
              "      <td>9971727.0</td>\n",
              "      <td>9920362.0</td>\n",
              "      <td>9893082.0</td>\n",
              "      <td>9866468.0</td>\n",
              "      <td>9843028.0</td>\n",
              "      <td>9814023.0</td>\n",
              "      <td>9787966.0</td>\n",
              "      <td>9775564.0</td>\n",
              "      <td>9771141.0</td>\n",
              "    </tr>\n",
              "    <tr>\n",
              "      <th>5</th>\n",
              "      <td>Spain</td>\n",
              "      <td>Espana</td>\n",
              "      <td>34.0</td>\n",
              "      <td>ES</td>\n",
              "      <td>ESP</td>\n",
              "      <td>724.0</td>\n",
              "      <td>0000 0001 2324 3505</td>\n",
              "      <td>46576897.0</td>\n",
              "      <td>46742697.0</td>\n",
              "      <td>46773055.0</td>\n",
              "      <td>46620045.0</td>\n",
              "      <td>46480882.0</td>\n",
              "      <td>46444832.0</td>\n",
              "      <td>46484062.0</td>\n",
              "      <td>46593236.0</td>\n",
              "      <td>46797754.0</td>\n",
              "      <td>47133521.0</td>\n",
              "    </tr>\n",
              "    <tr>\n",
              "      <th>6</th>\n",
              "      <td>United States of America</td>\n",
              "      <td>United States of America</td>\n",
              "      <td>1.0</td>\n",
              "      <td>US</td>\n",
              "      <td>USA</td>\n",
              "      <td>840.0</td>\n",
              "      <td>0000 0001 2331 5230</td>\n",
              "      <td>309321666.0</td>\n",
              "      <td>311556874.0</td>\n",
              "      <td>313830990.0</td>\n",
              "      <td>315993715.0</td>\n",
              "      <td>318301008.0</td>\n",
              "      <td>320635163.0</td>\n",
              "      <td>322941311.0</td>\n",
              "      <td>324985539.0</td>\n",
              "      <td>326687501.0</td>\n",
              "      <td>328239523.0</td>\n",
              "    </tr>\n",
              "    <tr>\n",
              "      <th>7</th>\n",
              "      <td>Belgium</td>\n",
              "      <td>Koninkrijk Belgie</td>\n",
              "      <td>32.0</td>\n",
              "      <td>BE</td>\n",
              "      <td>BEL</td>\n",
              "      <td>56.0</td>\n",
              "      <td>NaN</td>\n",
              "      <td>10895586.0</td>\n",
              "      <td>11038264.0</td>\n",
              "      <td>11106932.0</td>\n",
              "      <td>11159407.0</td>\n",
              "      <td>11209057.0</td>\n",
              "      <td>11274196.0</td>\n",
              "      <td>11331422.0</td>\n",
              "      <td>11375158.0</td>\n",
              "      <td>11427054.0</td>\n",
              "      <td>11502704.0</td>\n",
              "    </tr>\n",
              "    <tr>\n",
              "      <th>8</th>\n",
              "      <td>Luxembourg</td>\n",
              "      <td>Letzebuerg</td>\n",
              "      <td>352.0</td>\n",
              "      <td>LU</td>\n",
              "      <td>LUX</td>\n",
              "      <td>442.0</td>\n",
              "      <td>0000 0001 2192 9204</td>\n",
              "      <td>506953.0</td>\n",
              "      <td>518347.0</td>\n",
              "      <td>530946.0</td>\n",
              "      <td>543360.0</td>\n",
              "      <td>556319.0</td>\n",
              "      <td>569604.0</td>\n",
              "      <td>582014.0</td>\n",
              "      <td>596336.0</td>\n",
              "      <td>607950.0</td>\n",
              "      <td>620001.0</td>\n",
              "    </tr>\n",
              "    <tr>\n",
              "      <th>9</th>\n",
              "      <td>Finland</td>\n",
              "      <td>Suomi</td>\n",
              "      <td>358.0</td>\n",
              "      <td>FI</td>\n",
              "      <td>FIN</td>\n",
              "      <td>246.0</td>\n",
              "      <td>NaN</td>\n",
              "      <td>5363352.0</td>\n",
              "      <td>5388272.0</td>\n",
              "      <td>5413971.0</td>\n",
              "      <td>5438972.0</td>\n",
              "      <td>5461512.0</td>\n",
              "      <td>5479531.0</td>\n",
              "      <td>5495303.0</td>\n",
              "      <td>5508214.0</td>\n",
              "      <td>5515525.0</td>\n",
              "      <td>5521606.0</td>\n",
              "    </tr>\n",
              "    <tr>\n",
              "      <th>10</th>\n",
              "      <td>Sweden</td>\n",
              "      <td>Sverige</td>\n",
              "      <td>46.0</td>\n",
              "      <td>SE</td>\n",
              "      <td>SWE</td>\n",
              "      <td>752.0</td>\n",
              "      <td>0000 0001 2299 7436</td>\n",
              "      <td>9378126.0</td>\n",
              "      <td>9449213.0</td>\n",
              "      <td>9519374.0</td>\n",
              "      <td>9600379.0</td>\n",
              "      <td>9696110.0</td>\n",
              "      <td>9799186.0</td>\n",
              "      <td>9923085.0</td>\n",
              "      <td>10057698.0</td>\n",
              "      <td>10175214.0</td>\n",
              "      <td>10278887.0</td>\n",
              "    </tr>\n",
              "  </tbody>\n",
              "</table>\n",
              "</div>"
            ],
            "text/plain": [
              "                        Name  ... Population, 2019\n",
              "0                     Canada  ...       37593384.0\n",
              "1                      Japan  ...      126264931.0\n",
              "2                     Norway  ...        5347896.0\n",
              "3                    Ireland  ...        4934040.0\n",
              "4                    Hungary  ...        9771141.0\n",
              "5                      Spain  ...       47133521.0\n",
              "6   United States of America  ...      328239523.0\n",
              "7                    Belgium  ...       11502704.0\n",
              "8                 Luxembourg  ...         620001.0\n",
              "9                    Finland  ...        5521606.0\n",
              "10                    Sweden  ...       10278887.0\n",
              "\n",
              "[11 rows x 17 columns]"
            ]
          },
          "metadata": {},
          "execution_count": 1
        }
      ]
    },
    {
      "cell_type": "code",
      "metadata": {
        "colab": {
          "base_uri": "https://localhost:8080/"
        },
        "id": "humAp_bUX_NJ",
        "outputId": "551b117a-4c97-457a-dd35-258da69b2568"
      },
      "source": [
        "df.isna().sum()"
      ],
      "execution_count": 2,
      "outputs": [
        {
          "output_type": "execute_result",
          "data": {
            "text/plain": [
              "Name                     1\n",
              "NativeName               1\n",
              "CallingCode              1\n",
              "Iso3166P1Alpha2Code      2\n",
              "Iso3166P1Alpha3Code      1\n",
              "Iso3166P1NumericCode     1\n",
              "Isni                    35\n",
              "Population, 2010         1\n",
              "Population, 2011         1\n",
              "Population, 2012         1\n",
              "Population, 2013         1\n",
              "Population, 2014         1\n",
              "Population, 2015         1\n",
              "Population, 2016         1\n",
              "Population, 2017         1\n",
              "Population, 2018         1\n",
              "Population, 2019         1\n",
              "dtype: int64"
            ]
          },
          "metadata": {},
          "execution_count": 2
        }
      ]
    },
    {
      "cell_type": "code",
      "metadata": {
        "colab": {
          "base_uri": "https://localhost:8080/"
        },
        "id": "Bj-qSDzeYcvF",
        "outputId": "2b1c72ac-8848-4985-849c-c4d2a5c64a5b"
      },
      "source": [
        "df.nunique()"
      ],
      "execution_count": 3,
      "outputs": [
        {
          "output_type": "execute_result",
          "data": {
            "text/plain": [
              "Name                    192\n",
              "NativeName              192\n",
              "CallingCode             190\n",
              "Iso3166P1Alpha2Code     191\n",
              "Iso3166P1Alpha3Code     192\n",
              "Iso3166P1NumericCode    192\n",
              "Isni                    158\n",
              "Population, 2010        192\n",
              "Population, 2011        192\n",
              "Population, 2012        192\n",
              "Population, 2013        192\n",
              "Population, 2014        192\n",
              "Population, 2015        192\n",
              "Population, 2016        192\n",
              "Population, 2017        192\n",
              "Population, 2018        192\n",
              "Population, 2019        192\n",
              "dtype: int64"
            ]
          },
          "metadata": {},
          "execution_count": 3
        }
      ]
    },
    {
      "cell_type": "code",
      "metadata": {
        "colab": {
          "base_uri": "https://localhost:8080/"
        },
        "id": "hctUVedFYkvg",
        "outputId": "c56f1af2-29b8-493a-c3a5-1bca2a0db40a"
      },
      "source": [
        "df.info()"
      ],
      "execution_count": 4,
      "outputs": [
        {
          "output_type": "stream",
          "name": "stdout",
          "text": [
            "<class 'pandas.core.frame.DataFrame'>\n",
            "RangeIndex: 193 entries, 0 to 192\n",
            "Data columns (total 17 columns):\n",
            " #   Column                Non-Null Count  Dtype  \n",
            "---  ------                --------------  -----  \n",
            " 0   Name                  192 non-null    object \n",
            " 1   NativeName            192 non-null    object \n",
            " 2   CallingCode           192 non-null    float64\n",
            " 3   Iso3166P1Alpha2Code   191 non-null    object \n",
            " 4   Iso3166P1Alpha3Code   192 non-null    object \n",
            " 5   Iso3166P1NumericCode  192 non-null    float64\n",
            " 6   Isni                  158 non-null    object \n",
            " 7   Population, 2010      192 non-null    float64\n",
            " 8   Population, 2011      192 non-null    float64\n",
            " 9   Population, 2012      192 non-null    float64\n",
            " 10  Population, 2013      192 non-null    float64\n",
            " 11  Population, 2014      192 non-null    float64\n",
            " 12  Population, 2015      192 non-null    float64\n",
            " 13  Population, 2016      192 non-null    float64\n",
            " 14  Population, 2017      192 non-null    float64\n",
            " 15  Population, 2018      192 non-null    float64\n",
            " 16  Population, 2019      192 non-null    float64\n",
            "dtypes: float64(12), object(5)\n",
            "memory usage: 25.8+ KB\n"
          ]
        }
      ]
    },
    {
      "cell_type": "code",
      "metadata": {
        "colab": {
          "base_uri": "https://localhost:8080/"
        },
        "id": "fLHW3LL7YtZM",
        "outputId": "32339010-d3be-4c01-ddac-053980b880cb"
      },
      "source": [
        "df.isnull().sum()"
      ],
      "execution_count": 5,
      "outputs": [
        {
          "output_type": "execute_result",
          "data": {
            "text/plain": [
              "Name                     1\n",
              "NativeName               1\n",
              "CallingCode              1\n",
              "Iso3166P1Alpha2Code      2\n",
              "Iso3166P1Alpha3Code      1\n",
              "Iso3166P1NumericCode     1\n",
              "Isni                    35\n",
              "Population, 2010         1\n",
              "Population, 2011         1\n",
              "Population, 2012         1\n",
              "Population, 2013         1\n",
              "Population, 2014         1\n",
              "Population, 2015         1\n",
              "Population, 2016         1\n",
              "Population, 2017         1\n",
              "Population, 2018         1\n",
              "Population, 2019         1\n",
              "dtype: int64"
            ]
          },
          "metadata": {},
          "execution_count": 5
        }
      ]
    },
    {
      "cell_type": "code",
      "metadata": {
        "colab": {
          "base_uri": "https://localhost:8080/",
          "height": 311
        },
        "id": "XQipT5hXY70O",
        "outputId": "9c4c48b0-b614-40a0-f5c8-38f6ad1f4be7"
      },
      "source": [
        "df.describe()"
      ],
      "execution_count": 6,
      "outputs": [
        {
          "output_type": "execute_result",
          "data": {
            "text/html": [
              "<div>\n",
              "<style scoped>\n",
              "    .dataframe tbody tr th:only-of-type {\n",
              "        vertical-align: middle;\n",
              "    }\n",
              "\n",
              "    .dataframe tbody tr th {\n",
              "        vertical-align: top;\n",
              "    }\n",
              "\n",
              "    .dataframe thead th {\n",
              "        text-align: right;\n",
              "    }\n",
              "</style>\n",
              "<table border=\"1\" class=\"dataframe\">\n",
              "  <thead>\n",
              "    <tr style=\"text-align: right;\">\n",
              "      <th></th>\n",
              "      <th>CallingCode</th>\n",
              "      <th>Iso3166P1NumericCode</th>\n",
              "      <th>Population, 2010</th>\n",
              "      <th>Population, 2011</th>\n",
              "      <th>Population, 2012</th>\n",
              "      <th>Population, 2013</th>\n",
              "      <th>Population, 2014</th>\n",
              "      <th>Population, 2015</th>\n",
              "      <th>Population, 2016</th>\n",
              "      <th>Population, 2017</th>\n",
              "      <th>Population, 2018</th>\n",
              "      <th>Population, 2019</th>\n",
              "    </tr>\n",
              "  </thead>\n",
              "  <tbody>\n",
              "    <tr>\n",
              "      <th>count</th>\n",
              "      <td>192.000000</td>\n",
              "      <td>192.000000</td>\n",
              "      <td>1.920000e+02</td>\n",
              "      <td>1.920000e+02</td>\n",
              "      <td>1.920000e+02</td>\n",
              "      <td>1.920000e+02</td>\n",
              "      <td>1.920000e+02</td>\n",
              "      <td>1.920000e+02</td>\n",
              "      <td>1.920000e+02</td>\n",
              "      <td>1.920000e+02</td>\n",
              "      <td>1.920000e+02</td>\n",
              "      <td>1.920000e+02</td>\n",
              "    </tr>\n",
              "    <tr>\n",
              "      <th>mean</th>\n",
              "      <td>444.677083</td>\n",
              "      <td>431.807292</td>\n",
              "      <td>3.576775e+07</td>\n",
              "      <td>3.618759e+07</td>\n",
              "      <td>3.659997e+07</td>\n",
              "      <td>3.703437e+07</td>\n",
              "      <td>3.747277e+07</td>\n",
              "      <td>3.791194e+07</td>\n",
              "      <td>3.835437e+07</td>\n",
              "      <td>3.879401e+07</td>\n",
              "      <td>3.922417e+07</td>\n",
              "      <td>3.964697e+07</td>\n",
              "    </tr>\n",
              "    <tr>\n",
              "      <th>std</th>\n",
              "      <td>420.225008</td>\n",
              "      <td>254.270375</td>\n",
              "      <td>1.354204e+08</td>\n",
              "      <td>1.366068e+08</td>\n",
              "      <td>1.377899e+08</td>\n",
              "      <td>1.389587e+08</td>\n",
              "      <td>1.401286e+08</td>\n",
              "      <td>1.412946e+08</td>\n",
              "      <td>1.424778e+08</td>\n",
              "      <td>1.436637e+08</td>\n",
              "      <td>1.447696e+08</td>\n",
              "      <td>1.458022e+08</td>\n",
              "    </tr>\n",
              "    <tr>\n",
              "      <th>min</th>\n",
              "      <td>1.000000</td>\n",
              "      <td>4.000000</td>\n",
              "      <td>1.000500e+04</td>\n",
              "      <td>1.005700e+04</td>\n",
              "      <td>0.000000e+00</td>\n",
              "      <td>0.000000e+00</td>\n",
              "      <td>0.000000e+00</td>\n",
              "      <td>0.000000e+00</td>\n",
              "      <td>0.000000e+00</td>\n",
              "      <td>0.000000e+00</td>\n",
              "      <td>0.000000e+00</td>\n",
              "      <td>0.000000e+00</td>\n",
              "    </tr>\n",
              "    <tr>\n",
              "      <th>25%</th>\n",
              "      <td>182.750000</td>\n",
              "      <td>211.000000</td>\n",
              "      <td>1.750932e+06</td>\n",
              "      <td>1.807269e+06</td>\n",
              "      <td>1.713506e+06</td>\n",
              "      <td>1.774868e+06</td>\n",
              "      <td>1.835960e+06</td>\n",
              "      <td>1.895065e+06</td>\n",
              "      <td>1.915262e+06</td>\n",
              "      <td>1.913722e+06</td>\n",
              "      <td>1.913958e+06</td>\n",
              "      <td>1.919147e+06</td>\n",
              "    </tr>\n",
              "    <tr>\n",
              "      <th>50%</th>\n",
              "      <td>267.500000</td>\n",
              "      <td>429.000000</td>\n",
              "      <td>7.461496e+06</td>\n",
              "      <td>7.680320e+06</td>\n",
              "      <td>7.892668e+06</td>\n",
              "      <td>8.059634e+06</td>\n",
              "      <td>8.202174e+06</td>\n",
              "      <td>8.331248e+06</td>\n",
              "      <td>8.459669e+06</td>\n",
              "      <td>8.582570e+06</td>\n",
              "      <td>8.723418e+06</td>\n",
              "      <td>8.828014e+06</td>\n",
              "    </tr>\n",
              "    <tr>\n",
              "      <th>75%</th>\n",
              "      <td>674.250000</td>\n",
              "      <td>649.250000</td>\n",
              "      <td>2.378589e+07</td>\n",
              "      <td>2.433384e+07</td>\n",
              "      <td>2.492397e+07</td>\n",
              "      <td>2.567449e+07</td>\n",
              "      <td>2.644135e+07</td>\n",
              "      <td>2.702177e+07</td>\n",
              "      <td>2.740333e+07</td>\n",
              "      <td>2.803837e+07</td>\n",
              "      <td>2.859156e+07</td>\n",
              "      <td>2.874701e+07</td>\n",
              "    </tr>\n",
              "    <tr>\n",
              "      <th>max</th>\n",
              "      <td>1876.000000</td>\n",
              "      <td>894.000000</td>\n",
              "      <td>1.337705e+09</td>\n",
              "      <td>1.344130e+09</td>\n",
              "      <td>1.350695e+09</td>\n",
              "      <td>1.357380e+09</td>\n",
              "      <td>1.364270e+09</td>\n",
              "      <td>1.371220e+09</td>\n",
              "      <td>1.378665e+09</td>\n",
              "      <td>1.386395e+09</td>\n",
              "      <td>1.392730e+09</td>\n",
              "      <td>1.397715e+09</td>\n",
              "    </tr>\n",
              "  </tbody>\n",
              "</table>\n",
              "</div>"
            ],
            "text/plain": [
              "       CallingCode  Iso3166P1NumericCode  ...  Population, 2018  Population, 2019\n",
              "count   192.000000            192.000000  ...      1.920000e+02      1.920000e+02\n",
              "mean    444.677083            431.807292  ...      3.922417e+07      3.964697e+07\n",
              "std     420.225008            254.270375  ...      1.447696e+08      1.458022e+08\n",
              "min       1.000000              4.000000  ...      0.000000e+00      0.000000e+00\n",
              "25%     182.750000            211.000000  ...      1.913958e+06      1.919147e+06\n",
              "50%     267.500000            429.000000  ...      8.723418e+06      8.828014e+06\n",
              "75%     674.250000            649.250000  ...      2.859156e+07      2.874701e+07\n",
              "max    1876.000000            894.000000  ...      1.392730e+09      1.397715e+09\n",
              "\n",
              "[8 rows x 12 columns]"
            ]
          },
          "metadata": {},
          "execution_count": 6
        }
      ]
    },
    {
      "cell_type": "code",
      "metadata": {
        "colab": {
          "base_uri": "https://localhost:8080/",
          "height": 331
        },
        "id": "fYyHnu0ZZDsr",
        "outputId": "ecd367b5-b48b-4a8a-dd72-a56176fe4f27"
      },
      "source": [
        "plt.figure(figsize=(8,5))\n",
        "df['CallingCode'].value_counts().plot(kind='bar', fontsize=1)"
      ],
      "execution_count": 17,
      "outputs": [
        {
          "output_type": "execute_result",
          "data": {
            "text/plain": [
              "<matplotlib.axes._subplots.AxesSubplot at 0x7f1cb35f69d0>"
            ]
          },
          "metadata": {},
          "execution_count": 17
        },
        {
          "output_type": "display_data",
          "data": {
            "image/png": "[encoded data removed]",
            "text/plain": [
              "<Figure size 576x360 with 1 Axes>"
            ]
          },
          "metadata": {
            "needs_background": "light"
          }
        }
      ]
    },
    {
      "cell_type": "code",
      "metadata": {
        "colab": {
          "base_uri": "https://localhost:8080/",
          "height": 512
        },
        "id": "HHWL8BQPbvbm",
        "outputId": "25c1ddb9-1c18-4ecf-c6d3-3ffb67ec04ae"
      },
      "source": [
        "#histogram\n",
        "df.hist(bins=50, figsize=(12,8))\n",
        "plt.show()"
      ],
      "execution_count": 18,
      "outputs": [
        {
          "output_type": "display_data",
          "data": {
            "image/png": "[encoded data removed]",
            "text/plain": [
              "<Figure size 864x576 with 12 Axes>"
            ]
          },
          "metadata": {
            "needs_background": "light"
          }
        }
      ]
    },
    {
      "cell_type": "code",
      "metadata": {
        "colab": {
          "base_uri": "https://localhost:8080/",
          "height": 542
        },
        "id": "zNocA7dkcQzA",
        "outputId": "fb690c42-55b8-4367-d6b1-ad34cc57ab6a"
      },
      "source": [
        "#Heatmap\n",
        "corrMatrix = df.corr()\n",
        "plt.figure(figsize=(10,7))\n",
        "sns.heatmap(corrMatrix, annot=True)\n",
        "plt.show()"
      ],
      "execution_count": 19,
      "outputs": [
        {
          "output_type": "display_data",
          "data": {
            "image/png": "[encoded data removed]",
            "text/plain": [
              "<Figure size 720x504 with 2 Axes>"
            ]
          },
          "metadata": {
            "needs_background": "light"
          }
        }
      ]
    },
    {
      "cell_type": "code",
      "metadata": {
        "colab": {
          "base_uri": "https://localhost:8080/"
        },
        "id": "KUShO2NQcyqQ",
        "outputId": "c66b35c3-0049-4ace-966e-0ba6eadb9a97"
      },
      "source": [
        "corrMatrix[\"Population, 2010\"].sort_values(ascending=False)"
      ],
      "execution_count": 20,
      "outputs": [
        {
          "output_type": "execute_result",
          "data": {
            "text/plain": [
              "Population, 2010        1.000000\n",
              "Population, 2011        0.999987\n",
              "Population, 2012        0.999950\n",
              "Population, 2013        0.999894\n",
              "Population, 2014        0.999820\n",
              "Population, 2015        0.999729\n",
              "Population, 2016        0.999626\n",
              "Population, 2017        0.999510\n",
              "Population, 2018        0.999366\n",
              "Population, 2019        0.999191\n",
              "Iso3166P1NumericCode   -0.044423\n",
              "CallingCode            -0.179070\n",
              "Name: Population, 2010, dtype: float64"
            ]
          },
          "metadata": {},
          "execution_count": 20
        }
      ]
    },
    {
      "cell_type": "code",
      "metadata": {
        "colab": {
          "base_uri": "https://localhost:8080/",
          "height": 442
        },
        "id": "i9i3B0wjdS_l",
        "outputId": "b709cf40-4c61-4528-fe23-ffc4c33dda04"
      },
      "source": [
        "df.plot(kind=\"scatter\", x=\"Population, 2012\" ,y= \"CallingCode\", alpha=0.5,\n",
        "        figsize=(10,7), c = \"Iso3166P1NumericCode\",\n",
        "        cmap=plt.get_cmap(\"jet\"), colorbar=True)"
      ],
      "execution_count": 24,
      "outputs": [
        {
          "output_type": "execute_result",
          "data": {
            "text/plain": [
              "<matplotlib.axes._subplots.AxesSubplot at 0x7f1ca9b07990>"
            ]
          },
          "metadata": {},
          "execution_count": 24
        },
        {
          "output_type": "display_data",
          "data": {
            "image/png": "[encoded data removed]",
            "text/plain": [
              "<Figure size 720x504 with 2 Axes>"
            ]
          },
          "metadata": {
            "needs_background": "light"
          }
        }
      ]
    },
    {
      "cell_type": "code",
      "metadata": {
        "colab": {
          "base_uri": "https://localhost:8080/",
          "height": 684
        },
        "id": "JZ7fTUg9e9AP",
        "outputId": "7b7795d2-3a3b-4ed2-8a5b-b9e67281b3c4"
      },
      "source": [
        "from pandas.plotting import scatter_matrix\n",
        "\n",
        "attributes = ['CallingCode', 'Population, 2012', 'Population, 2013']\n",
        "\n",
        "scatter_matrix(df[attributes], figsize=(12,8))"
      ],
      "execution_count": 25,
      "outputs": [
        {
          "output_type": "execute_result",
          "data": {
            "text/plain": [
              "array([[<matplotlib.axes._subplots.AxesSubplot object at 0x7f1ca9a5cad0>,\n",
              "        <matplotlib.axes._subplots.AxesSubplot object at 0x7f1ca99f8d10>,\n",
              "        <matplotlib.axes._subplots.AxesSubplot object at 0x7f1ca99cae90>],\n",
              "       [<matplotlib.axes._subplots.AxesSubplot object at 0x7f1ca998b3d0>,\n",
              "        <matplotlib.axes._subplots.AxesSubplot object at 0x7f1ca99408d0>,\n",
              "        <matplotlib.axes._subplots.AxesSubplot object at 0x7f1ca9a4c210>],\n",
              "       [<matplotlib.axes._subplots.AxesSubplot object at 0x7f1cb24e80d0>,\n",
              "        <matplotlib.axes._subplots.AxesSubplot object at 0x7f1cb24d1550>,\n",
              "        <matplotlib.axes._subplots.AxesSubplot object at 0x7f1cb24d1a50>]],\n",
              "      dtype=object)"
            ]
          },
          "metadata": {},
          "execution_count": 25
        },
        {
          "output_type": "display_data",
          "data": {
            "image/png": "[encoded data removed]",
            "text/plain": [
              "<Figure size 864x576 with 9 Axes>"
            ]
          },
          "metadata": {
            "needs_background": "light"
          }
        }
      ]
    },
    {
      "cell_type": "markdown",
      "metadata": {
        "id": "oQLtcTy1i2o4"
      },
      "source": [
        "# **Conclusion**\n",
        "\n",
        "##### The compiled figures are not collected at the same time in every country, or at the same level of accuracy, the resulting numerical comparisons may create misleading conclusions. Furthermore, the addition of figures from all countries may not equal the world total."
      ]
    }
  ]
}